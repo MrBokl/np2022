{
  "nbformat": 4,
  "nbformat_minor": 0,
  "metadata": {
    "colab": {
      "name": "LR4.ipynb",
      "provenance": [],
      "authorship_tag": "ABX9TyNdFFHPKaSgDKPv3ro3LKvu",
      "include_colab_link": true
    },
    "kernelspec": {
      "name": "python3",
      "display_name": "Python 3"
    },
    "language_info": {
      "name": "python"
    }
  },
  "cells": [
    {
      "cell_type": "markdown",
      "metadata": {
        "id": "view-in-github",
        "colab_type": "text"
      },
      "source": [
        "<a href=\"https://colab.research.google.com/github/MrBokl/np2022/blob/main/LR4/LR4.ipynb\" target=\"_parent\"><img src=\"https://colab.research.google.com/assets/colab-badge.svg\" alt=\"Open In Colab\"/></a>"
      ]
    },
    {
      "cell_type": "markdown",
      "source": [
        "# Лабораторна робота №4\n",
        "\n",
        "### студента групи Анд-31\n",
        "\n",
        "### Майданик  Андрій\n",
        "\n",
        "### Варіант №7"
      ],
      "metadata": {
        "id": "Jfp0EhyWV8o4"
      }
    },
    {
      "cell_type": "markdown",
      "source": [
        "# Завдання №1\n",
        "\n",
        "###Для моделювання використати 3 класи індекси яких взяти відповідно до номеру у списку групи(0, 5, 7).\n",
        "\n",
        "###Моделювання провести із використанням нейронної мережі (Flatten & Dense layers)."
      ],
      "metadata": {
        "id": "6glFWXnGWIaQ"
      }
    },
    {
      "cell_type": "code",
      "source": [
        "import tensorflow as tf\n",
        "from tensorflow.keras.datasets import fashion_mnist\n",
        "import matplotlib.pyplot as plt\n",
        "import numpy as np\n",
        "import pandas as pd\n",
        "from sklearn.metrics import confusion_matrix"
      ],
      "metadata": {
        "id": "M-3_B2i2WE4d"
      },
      "execution_count": 1,
      "outputs": []
    },
    {
      "cell_type": "code",
      "source": [
        "( train_data ,  train_labels ),  ( test_data ,  test_labels )  =  fashion_mnist . load_data ()"
      ],
      "metadata": {
        "colab": {
          "base_uri": "https://localhost:8080/"
        },
        "id": "-g-6reDPV_hw",
        "outputId": "7e73d535-bf5c-4fb0-cd76-f531d36dbab1"
      },
      "execution_count": 2,
      "outputs": [
        {
          "output_type": "stream",
          "name": "stdout",
          "text": [
            "Downloading data from https://storage.googleapis.com/tensorflow/tf-keras-datasets/train-labels-idx1-ubyte.gz\n",
            "32768/29515 [=================================] - 0s 0us/step\n",
            "40960/29515 [=========================================] - 0s 0us/step\n",
            "Downloading data from https://storage.googleapis.com/tensorflow/tf-keras-datasets/train-images-idx3-ubyte.gz\n",
            "26427392/26421880 [==============================] - 0s 0us/step\n",
            "26435584/26421880 [==============================] - 0s 0us/step\n",
            "Downloading data from https://storage.googleapis.com/tensorflow/tf-keras-datasets/t10k-labels-idx1-ubyte.gz\n",
            "16384/5148 [===============================================================================================] - 0s 0us/step\n",
            "Downloading data from https://storage.googleapis.com/tensorflow/tf-keras-datasets/t10k-images-idx3-ubyte.gz\n",
            "4423680/4422102 [==============================] - 0s 0us/step\n",
            "4431872/4422102 [==============================] - 0s 0us/step\n"
          ]
        }
      ]
    },
    {
      "cell_type": "code",
      "source": [
        "class_names = ['T-shirt/top', 'Trouser', 'Pullover', 'Dress', 'Coat', \n",
        "               'Sandal', 'Shirt', 'Sneaker', 'Bag', 'Ankle boot']"
      ],
      "metadata": {
        "id": "brt7b_NQWR6y"
      },
      "execution_count": 3,
      "outputs": []
    },
    {
      "cell_type": "code",
      "source": [
        "train_data = train_data[np.where(np.in1d(train_labels, [6, 9, 3]))]\n",
        "train_labels = train_labels[np.where(np.in1d(train_labels, [6, 9, 3]))]\n",
        "test_data = test_data[np.where(np.in1d(test_labels, [6, 9, 3]))]\n",
        "test_labels = test_labels[np.where(np.in1d(test_labels, [6, 9, 3]))]\n",
        "class_names_1 = [class_names[i] for i in [6, 9, 3]]"
      ],
      "metadata": {
        "id": "_I5l4Ji9WUW1"
      },
      "execution_count": 4,
      "outputs": []
    },
    {
      "cell_type": "code",
      "source": [
        "import random\n",
        "plt.figure(figsize=(7, 7))\n",
        "for i in range(4):\n",
        "  ax = plt.subplot(2, 2, i + 1)\n",
        "  rand_index = random.choice(range(len(train_data)))\n",
        "  plt.imshow(train_data[rand_index], cmap=plt.cm.binary)\n",
        "  plt.title(class_names[train_labels[rand_index]])\n",
        "  plt.axis(False)"
      ],
      "metadata": {
        "colab": {
          "base_uri": "https://localhost:8080/",
          "height": 427
        },
        "id": "NQuJk0iJW-hQ",
        "outputId": "25414ee2-18db-40d3-fda3-95169e01c1e2"
      },
      "execution_count": 6,
      "outputs": [
        {
          "output_type": "display_data",
          "data": {
            "text/plain": [
              "<Figure size 504x504 with 4 Axes>"
            ],
            "image/png": "[encoded data removed]"
          },
          "metadata": {
            "needs_background": "light"
          }
        }
      ]
    },
    {
      "cell_type": "code",
      "source": [
        "tf.random.set_seed(42)\n",
        "\n",
        "# Create the model\n",
        "model_11 = tf.keras.Sequential([\n",
        "  tf.keras.layers.Flatten(input_shape=(28, 28)), \n",
        "  tf.keras.layers.Dense(4, activation=\"relu\"),\n",
        "  tf.keras.layers.Dense(4, activation=\"relu\"),\n",
        "  tf.keras.layers.Dense(10, activation=\"softmax\") \n",
        "])\n",
        "\n",
        "# Compile the model\n",
        "model_11.compile(loss=tf.keras.losses.SparseCategoricalCrossentropy(),\n",
        "                 optimizer=tf.keras.optimizers.Adam(),\n",
        "                 metrics=[\"accuracy\"])\n",
        "\n",
        "# Fit the model\n",
        "non_norm_history = model_11.fit(train_data,\n",
        "                                train_labels,\n",
        "                                epochs=10,\n",
        "                                validation_data=(test_data, test_labels))\n"
      ],
      "metadata": {
        "colab": {
          "base_uri": "https://localhost:8080/"
        },
        "id": "RnPj7bO2XDzh",
        "outputId": "f6b88e10-56a0-4d6b-fe12-71cd9b5edc0d"
      },
      "execution_count": 7,
      "outputs": [
        {
          "output_type": "stream",
          "name": "stdout",
          "text": [
            "Epoch 1/10\n",
            "563/563 [==============================] - 2s 2ms/step - loss: 2.1352 - accuracy: 0.3316 - val_loss: 1.6066 - val_accuracy: 0.3340\n",
            "Epoch 2/10\n",
            "563/563 [==============================] - 1s 2ms/step - loss: 1.3924 - accuracy: 0.3638 - val_loss: 1.2994 - val_accuracy: 0.3340\n",
            "Epoch 3/10\n",
            "563/563 [==============================] - 1s 2ms/step - loss: 1.0074 - accuracy: 0.5055 - val_loss: 0.8750 - val_accuracy: 0.5957\n",
            "Epoch 4/10\n",
            "563/563 [==============================] - 1s 2ms/step - loss: 0.6930 - accuracy: 0.6053 - val_loss: 0.5634 - val_accuracy: 0.8303\n",
            "Epoch 5/10\n",
            "563/563 [==============================] - 1s 2ms/step - loss: 0.4563 - accuracy: 0.8728 - val_loss: 0.3943 - val_accuracy: 0.8737\n",
            "Epoch 6/10\n",
            "563/563 [==============================] - 2s 3ms/step - loss: 0.3373 - accuracy: 0.8961 - val_loss: 0.3476 - val_accuracy: 0.8750\n",
            "Epoch 7/10\n",
            "563/563 [==============================] - 2s 3ms/step - loss: 0.2943 - accuracy: 0.9002 - val_loss: 0.3006 - val_accuracy: 0.8940\n",
            "Epoch 8/10\n",
            "563/563 [==============================] - 1s 2ms/step - loss: 0.2688 - accuracy: 0.9054 - val_loss: 0.2905 - val_accuracy: 0.8937\n",
            "Epoch 9/10\n",
            "563/563 [==============================] - 1s 2ms/step - loss: 0.2580 - accuracy: 0.9060 - val_loss: 0.2643 - val_accuracy: 0.9043\n",
            "Epoch 10/10\n",
            "563/563 [==============================] - 1s 2ms/step - loss: 0.2476 - accuracy: 0.9102 - val_loss: 0.3016 - val_accuracy: 0.8697\n"
          ]
        }
      ]
    },
    {
      "cell_type": "code",
      "source": [
        "model_11.summary()"
      ],
      "metadata": {
        "colab": {
          "base_uri": "https://localhost:8080/"
        },
        "id": "VImdnMOxXGKy",
        "outputId": "68a9b13c-fa04-482f-af12-d7d728f12d4d"
      },
      "execution_count": 8,
      "outputs": [
        {
          "output_type": "stream",
          "name": "stdout",
          "text": [
            "Model: \"sequential\"\n",
            "_________________________________________________________________\n",
            " Layer (type)                Output Shape              Param #   \n",
            "=================================================================\n",
            " flatten (Flatten)           (None, 784)               0         \n",
            "                                                                 \n",
            " dense (Dense)               (None, 4)                 3140      \n",
            "                                                                 \n",
            " dense_1 (Dense)             (None, 4)                 20        \n",
            "                                                                 \n",
            " dense_2 (Dense)             (None, 10)                50        \n",
            "                                                                 \n",
            "=================================================================\n",
            "Total params: 3,210\n",
            "Trainable params: 3,210\n",
            "Non-trainable params: 0\n",
            "_________________________________________________________________\n"
          ]
        }
      ]
    },
    {
      "cell_type": "code",
      "source": [
        "pd.DataFrame(non_norm_history.history).plot(title=\"Non-normalized Data\")"
      ],
      "metadata": {
        "colab": {
          "base_uri": "https://localhost:8080/",
          "height": 298
        },
        "id": "1vHRziAjXIzx",
        "outputId": "9fefbbb1-f891-40e4-c739-05c2f20e1d65"
      },
      "execution_count": 9,
      "outputs": [
        {
          "output_type": "execute_result",
          "data": {
            "text/plain": [
              "<matplotlib.axes._subplots.AxesSubplot at 0x7f5563d37410>"
            ]
          },
          "metadata": {},
          "execution_count": 9
        },
        {
          "output_type": "display_data",
          "data": {
            "text/plain": [
              "<Figure size 432x288 with 1 Axes>"
            ],
            "image/png": "[encoded data removed]"
          },
          "metadata": {
            "needs_background": "light"
          }
        }
      ]
    },
    {
      "cell_type": "code",
      "source": [
        "#Confusion matrix\n",
        "predicted_labels1 = model_11.predict(test_data)\n",
        "predicted_labels1 = predicted_labels1.argmax(axis=1)\n",
        "print(f\"Model 1, not normalized data:\\n {confusion_matrix(y_true=test_labels, y_pred=predicted_labels1)}\")"
      ],
      "metadata": {
        "colab": {
          "base_uri": "https://localhost:8080/"
        },
        "id": "gDK5u4_IXLwY",
        "outputId": "70b4cc52-ea5c-4891-f5b7-1723b091fd40"
      },
      "execution_count": 10,
      "outputs": [
        {
          "output_type": "stream",
          "name": "stdout",
          "text": [
            "Model 1, not normalized data:\n",
            " [[874 124   2]\n",
            " [254 738   8]\n",
            " [  0   3 997]]\n"
          ]
        }
      ]
    },
    {
      "cell_type": "code",
      "source": [
        "#Normalize data\n",
        "train_data = train_data / 255.0\n",
        "test_data = test_data / 255.0\n",
        "train_data.min(), train_data.max()"
      ],
      "metadata": {
        "colab": {
          "base_uri": "https://localhost:8080/"
        },
        "id": "8lTWGoCsXMkX",
        "outputId": "8013c2da-5a50-498a-9ef3-1a8ff0db8086"
      },
      "execution_count": 11,
      "outputs": [
        {
          "output_type": "execute_result",
          "data": {
            "text/plain": [
              "(0.0, 1.0)"
            ]
          },
          "metadata": {},
          "execution_count": 11
        }
      ]
    },
    {
      "cell_type": "code",
      "source": [
        "tf.random.set_seed(42)\n",
        "\n",
        "# Create the model\n",
        "model_12 = tf.keras.Sequential([\n",
        "  tf.keras.layers.Flatten(input_shape=(28, 28)),\n",
        "  tf.keras.layers.Dense(4, activation=\"relu\"),\n",
        "  tf.keras.layers.Dense(4, activation=\"relu\"),\n",
        "  tf.keras.layers.Dense(10, activation=\"softmax\") \n",
        "])\n",
        "\n",
        "# Compile the model\n",
        "model_12.compile(loss=tf.keras.losses.SparseCategoricalCrossentropy(),\n",
        "                 optimizer=tf.keras.optimizers.Adam(),\n",
        "                 metrics=[\"accuracy\"])\n",
        "\n",
        "# Fit the model\n",
        "norm_history = model_12.fit(train_data,\n",
        "                            train_labels,\n",
        "                            epochs=10,\n",
        "                            validation_data=(test_data, test_labels))"
      ],
      "metadata": {
        "colab": {
          "base_uri": "https://localhost:8080/"
        },
        "id": "lx8F_uxLXQI5",
        "outputId": "73b06c77-dd7e-4d27-aa16-87b366d281bc"
      },
      "execution_count": 12,
      "outputs": [
        {
          "output_type": "stream",
          "name": "stdout",
          "text": [
            "Epoch 1/10\n",
            "563/563 [==============================] - 2s 2ms/step - loss: 0.5877 - accuracy: 0.8412 - val_loss: 0.1624 - val_accuracy: 0.9467\n",
            "Epoch 2/10\n",
            "563/563 [==============================] - 1s 2ms/step - loss: 0.1240 - accuracy: 0.9556 - val_loss: 0.1518 - val_accuracy: 0.9443\n",
            "Epoch 3/10\n",
            "563/563 [==============================] - 1s 2ms/step - loss: 0.1102 - accuracy: 0.9601 - val_loss: 0.1414 - val_accuracy: 0.9513\n",
            "Epoch 4/10\n",
            "563/563 [==============================] - 1s 2ms/step - loss: 0.1051 - accuracy: 0.9613 - val_loss: 0.1362 - val_accuracy: 0.9497\n",
            "Epoch 5/10\n",
            "563/563 [==============================] - 1s 2ms/step - loss: 0.1006 - accuracy: 0.9626 - val_loss: 0.1355 - val_accuracy: 0.9540\n",
            "Epoch 6/10\n",
            "563/563 [==============================] - 1s 2ms/step - loss: 0.0989 - accuracy: 0.9637 - val_loss: 0.1323 - val_accuracy: 0.9527\n",
            "Epoch 7/10\n",
            "563/563 [==============================] - 1s 3ms/step - loss: 0.0959 - accuracy: 0.9637 - val_loss: 0.1375 - val_accuracy: 0.9540\n",
            "Epoch 8/10\n",
            "563/563 [==============================] - 1s 2ms/step - loss: 0.0951 - accuracy: 0.9649 - val_loss: 0.1397 - val_accuracy: 0.9503\n",
            "Epoch 9/10\n",
            "563/563 [==============================] - 1s 3ms/step - loss: 0.0970 - accuracy: 0.9639 - val_loss: 0.1655 - val_accuracy: 0.9447\n",
            "Epoch 10/10\n",
            "563/563 [==============================] - 1s 2ms/step - loss: 0.0975 - accuracy: 0.9644 - val_loss: 0.1373 - val_accuracy: 0.9513\n"
          ]
        }
      ]
    },
    {
      "cell_type": "code",
      "source": [
        "predicted_labels2 = model_12.predict(test_data)\n",
        "predicted_labels2 = predicted_labels2.argmax(axis=1)\n",
        "print(f\"Model 2, normalized data:\\n {confusion_matrix(y_true=test_labels, y_pred=predicted_labels2)}\")"
      ],
      "metadata": {
        "colab": {
          "base_uri": "https://localhost:8080/"
        },
        "id": "V0-LGO5-XS2S",
        "outputId": "eedb21a9-b507-42e9-b22a-73889d9b3115"
      },
      "execution_count": 13,
      "outputs": [
        {
          "output_type": "stream",
          "name": "stdout",
          "text": [
            "Model 2, normalized data:\n",
            " [[945  55   0]\n",
            " [ 90 910   0]\n",
            " [  0   1 999]]\n"
          ]
        }
      ]
    },
    {
      "cell_type": "code",
      "source": [
        "pd.DataFrame(norm_history.history).plot(title=\"Normalized data\");"
      ],
      "metadata": {
        "colab": {
          "base_uri": "https://localhost:8080/",
          "height": 281
        },
        "id": "5FJiCf8DXU_m",
        "outputId": "8e702991-3998-448a-8e0c-e1c314262c76"
      },
      "execution_count": 14,
      "outputs": [
        {
          "output_type": "display_data",
          "data": {
            "text/plain": [
              "<Figure size 432x288 with 1 Axes>"
            ],
            "image/png": "[encoded data removed]"
          },
          "metadata": {
            "needs_background": "light"
          }
        }
      ]
    },
    {
      "cell_type": "code",
      "source": [
        "model_13 = tf.keras.Sequential([\n",
        "  tf.keras.layers.Flatten(input_shape=(28, 28)), \n",
        "  tf.keras.layers.Dense(4, activation=\"relu\"),\n",
        "  tf.keras.layers.Dense(4, activation=\"relu\"),\n",
        "  tf.keras.layers.Dense(10, activation=\"softmax\")\n",
        "])\n",
        "\n",
        "# Compile the model\n",
        "model_13.compile(loss=tf.keras.losses.SparseCategoricalCrossentropy(),\n",
        "                 optimizer=tf.keras.optimizers.Adam(),\n",
        "                 metrics=[\"accuracy\"])\n",
        "\n",
        "# Create the learning rate callback\n",
        "lr_scheduler = tf.keras.callbacks.LearningRateScheduler(lambda epoch: 1e-3 * 10**(epoch/20))\n",
        "\n",
        "# Fit the model\n",
        "find_lr_history = model_13.fit(train_data,\n",
        "                               train_labels,\n",
        "                               epochs=40,\n",
        "                               validation_data=(test_data, test_labels),\n",
        "                               callbacks=[lr_scheduler])"
      ],
      "metadata": {
        "colab": {
          "base_uri": "https://localhost:8080/"
        },
        "id": "k4yPU4SEXYSp",
        "outputId": "475a3299-b328-45ba-d629-b277b75f27f9"
      },
      "execution_count": 15,
      "outputs": [
        {
          "output_type": "stream",
          "name": "stdout",
          "text": [
            "Epoch 1/40\n",
            "563/563 [==============================] - 2s 2ms/step - loss: 0.4186 - accuracy: 0.8355 - val_loss: 0.1673 - val_accuracy: 0.9403 - lr: 0.0010\n",
            "Epoch 2/40\n",
            "563/563 [==============================] - 1s 2ms/step - loss: 0.1300 - accuracy: 0.9547 - val_loss: 0.1606 - val_accuracy: 0.9433 - lr: 0.0011\n",
            "Epoch 3/40\n",
            "563/563 [==============================] - 2s 4ms/step - loss: 0.1151 - accuracy: 0.9586 - val_loss: 0.1459 - val_accuracy: 0.9493 - lr: 0.0013\n",
            "Epoch 4/40\n",
            "563/563 [==============================] - 2s 4ms/step - loss: 0.1102 - accuracy: 0.9597 - val_loss: 0.1365 - val_accuracy: 0.9507 - lr: 0.0014\n",
            "Epoch 5/40\n",
            "563/563 [==============================] - 1s 2ms/step - loss: 0.1047 - accuracy: 0.9618 - val_loss: 0.1464 - val_accuracy: 0.9490 - lr: 0.0016\n",
            "Epoch 6/40\n",
            "563/563 [==============================] - 1s 2ms/step - loss: 0.1037 - accuracy: 0.9616 - val_loss: 0.1331 - val_accuracy: 0.9523 - lr: 0.0018\n",
            "Epoch 7/40\n",
            "563/563 [==============================] - 1s 2ms/step - loss: 0.0995 - accuracy: 0.9624 - val_loss: 0.1395 - val_accuracy: 0.9530 - lr: 0.0020\n",
            "Epoch 8/40\n",
            "563/563 [==============================] - 1s 2ms/step - loss: 0.1002 - accuracy: 0.9629 - val_loss: 0.1363 - val_accuracy: 0.9517 - lr: 0.0022\n",
            "Epoch 9/40\n",
            "563/563 [==============================] - 1s 2ms/step - loss: 0.1005 - accuracy: 0.9634 - val_loss: 0.1591 - val_accuracy: 0.9453 - lr: 0.0025\n",
            "Epoch 10/40\n",
            "563/563 [==============================] - 1s 2ms/step - loss: 0.1005 - accuracy: 0.9627 - val_loss: 0.1332 - val_accuracy: 0.9527 - lr: 0.0028\n",
            "Epoch 11/40\n",
            "563/563 [==============================] - 2s 3ms/step - loss: 0.0988 - accuracy: 0.9634 - val_loss: 0.1473 - val_accuracy: 0.9460 - lr: 0.0032\n",
            "Epoch 12/40\n",
            "563/563 [==============================] - 1s 3ms/step - loss: 0.0958 - accuracy: 0.9639 - val_loss: 0.1507 - val_accuracy: 0.9473 - lr: 0.0035\n",
            "Epoch 13/40\n",
            "563/563 [==============================] - 1s 2ms/step - loss: 0.0937 - accuracy: 0.9648 - val_loss: 0.1531 - val_accuracy: 0.9503 - lr: 0.0040\n",
            "Epoch 14/40\n",
            "563/563 [==============================] - 1s 2ms/step - loss: 0.0951 - accuracy: 0.9641 - val_loss: 0.1359 - val_accuracy: 0.9513 - lr: 0.0045\n",
            "Epoch 15/40\n",
            "563/563 [==============================] - 1s 2ms/step - loss: 0.0892 - accuracy: 0.9662 - val_loss: 0.1387 - val_accuracy: 0.9567 - lr: 0.0050\n",
            "Epoch 16/40\n",
            "563/563 [==============================] - 2s 3ms/step - loss: 0.0885 - accuracy: 0.9658 - val_loss: 0.1323 - val_accuracy: 0.9513 - lr: 0.0056\n",
            "Epoch 17/40\n",
            "563/563 [==============================] - 1s 2ms/step - loss: 0.0886 - accuracy: 0.9661 - val_loss: 0.1324 - val_accuracy: 0.9607 - lr: 0.0063\n",
            "Epoch 18/40\n",
            "563/563 [==============================] - 1s 3ms/step - loss: 0.0913 - accuracy: 0.9662 - val_loss: 0.1360 - val_accuracy: 0.9540 - lr: 0.0071\n",
            "Epoch 19/40\n",
            "563/563 [==============================] - 1s 2ms/step - loss: 0.0896 - accuracy: 0.9664 - val_loss: 0.1393 - val_accuracy: 0.9570 - lr: 0.0079\n",
            "Epoch 20/40\n",
            "563/563 [==============================] - 1s 2ms/step - loss: 0.0868 - accuracy: 0.9675 - val_loss: 0.1412 - val_accuracy: 0.9570 - lr: 0.0089\n",
            "Epoch 21/40\n",
            "563/563 [==============================] - 1s 2ms/step - loss: 0.0879 - accuracy: 0.9676 - val_loss: 0.1343 - val_accuracy: 0.9577 - lr: 0.0100\n",
            "Epoch 22/40\n",
            "563/563 [==============================] - 1s 2ms/step - loss: 0.0895 - accuracy: 0.9663 - val_loss: 0.1422 - val_accuracy: 0.9560 - lr: 0.0112\n",
            "Epoch 23/40\n",
            "563/563 [==============================] - 2s 3ms/step - loss: 0.0946 - accuracy: 0.9657 - val_loss: 0.1366 - val_accuracy: 0.9600 - lr: 0.0126\n",
            "Epoch 24/40\n",
            "563/563 [==============================] - 1s 2ms/step - loss: 0.0869 - accuracy: 0.9687 - val_loss: 0.1314 - val_accuracy: 0.9553 - lr: 0.0141\n",
            "Epoch 25/40\n",
            "563/563 [==============================] - 2s 4ms/step - loss: 0.1020 - accuracy: 0.9650 - val_loss: 0.1246 - val_accuracy: 0.9547 - lr: 0.0158\n",
            "Epoch 26/40\n",
            "563/563 [==============================] - 2s 3ms/step - loss: 0.0943 - accuracy: 0.9657 - val_loss: 0.1909 - val_accuracy: 0.9250 - lr: 0.0178\n",
            "Epoch 27/40\n",
            "563/563 [==============================] - 1s 2ms/step - loss: 0.0932 - accuracy: 0.9671 - val_loss: 0.1618 - val_accuracy: 0.9553 - lr: 0.0200\n",
            "Epoch 28/40\n",
            "563/563 [==============================] - 2s 3ms/step - loss: 0.0973 - accuracy: 0.9646 - val_loss: 0.1452 - val_accuracy: 0.9617 - lr: 0.0224\n",
            "Epoch 29/40\n",
            "563/563 [==============================] - 1s 2ms/step - loss: 0.1094 - accuracy: 0.9637 - val_loss: 0.1463 - val_accuracy: 0.9577 - lr: 0.0251\n",
            "Epoch 30/40\n",
            "563/563 [==============================] - 1s 2ms/step - loss: 0.1055 - accuracy: 0.9645 - val_loss: 0.1523 - val_accuracy: 0.9567 - lr: 0.0282\n",
            "Epoch 31/40\n",
            "563/563 [==============================] - 2s 3ms/step - loss: 0.2650 - accuracy: 0.9151 - val_loss: 0.2164 - val_accuracy: 0.9397 - lr: 0.0316\n",
            "Epoch 32/40\n",
            "563/563 [==============================] - 1s 2ms/step - loss: 0.1567 - accuracy: 0.9524 - val_loss: 0.1803 - val_accuracy: 0.9553 - lr: 0.0355\n",
            "Epoch 33/40\n",
            "563/563 [==============================] - 1s 2ms/step - loss: 0.1581 - accuracy: 0.9537 - val_loss: 0.1519 - val_accuracy: 0.9537 - lr: 0.0398\n",
            "Epoch 34/40\n",
            "563/563 [==============================] - 1s 2ms/step - loss: 0.1607 - accuracy: 0.9537 - val_loss: 0.1515 - val_accuracy: 0.9530 - lr: 0.0447\n",
            "Epoch 35/40\n",
            "563/563 [==============================] - 1s 2ms/step - loss: 0.1956 - accuracy: 0.9477 - val_loss: 0.2367 - val_accuracy: 0.9393 - lr: 0.0501\n",
            "Epoch 36/40\n",
            "563/563 [==============================] - 1s 2ms/step - loss: 0.1698 - accuracy: 0.9533 - val_loss: 0.2196 - val_accuracy: 0.9483 - lr: 0.0562\n",
            "Epoch 37/40\n",
            "563/563 [==============================] - 1s 2ms/step - loss: 0.1846 - accuracy: 0.9478 - val_loss: 0.2169 - val_accuracy: 0.9443 - lr: 0.0631\n",
            "Epoch 38/40\n",
            "563/563 [==============================] - 1s 2ms/step - loss: 0.2562 - accuracy: 0.9347 - val_loss: 0.3160 - val_accuracy: 0.8670 - lr: 0.0708\n",
            "Epoch 39/40\n",
            "563/563 [==============================] - 1s 2ms/step - loss: 0.6200 - accuracy: 0.6455 - val_loss: 0.4731 - val_accuracy: 0.6660 - lr: 0.0794\n",
            "Epoch 40/40\n",
            "563/563 [==============================] - 1s 2ms/step - loss: 0.4708 - accuracy: 0.6644 - val_loss: 0.4712 - val_accuracy: 0.6663 - lr: 0.0891\n"
          ]
        }
      ]
    },
    {
      "cell_type": "markdown",
      "source": [
        "# Завдання №2\n",
        "\n",
        "Здійснити вибір оптимального кроку градієнтного алгоритму (learning_rate), а також побудову Confusion Matrix."
      ],
      "metadata": {
        "id": "f38OI4s7Xclz"
      }
    },
    {
      "cell_type": "code",
      "source": [
        "#learning rate\n",
        "lrs = 1e-3 * (10**(np.arange(40)/20))\n",
        "plt.semilogx(lrs, find_lr_history.history[\"loss\"])\n",
        "plt.xlabel(\"Learning rate\")\n",
        "plt.ylabel(\"Loss\")\n",
        "plt.title(\"Finding the ideal learning rate\");"
      ],
      "metadata": {
        "colab": {
          "base_uri": "https://localhost:8080/",
          "height": 299
        },
        "id": "AalY744aXgjT",
        "outputId": "f18a3f39-8db9-4fe3-b4cc-4af45917d61d"
      },
      "execution_count": 16,
      "outputs": [
        {
          "output_type": "display_data",
          "data": {
            "text/plain": [
              "<Figure size 432x288 with 1 Axes>"
            ],
            "image/png": "[encoded data removed]"
          },
          "metadata": {
            "needs_background": "light"
          }
        }
      ]
    },
    {
      "cell_type": "code",
      "source": [
        "l_rate = min(find_lr_history.history[\"loss\"])"
      ],
      "metadata": {
        "id": "wPBoInM2Xmxs"
      },
      "execution_count": 17,
      "outputs": []
    },
    {
      "cell_type": "code",
      "source": [
        "tf.random.set_seed(42)\n",
        "\n",
        "# Create the model\n",
        "model4 = tf.keras.Sequential([\n",
        "  tf.keras.layers.Flatten(input_shape=(28, 28)),\n",
        "  tf.keras.layers.Dense(20, activation=\"relu\"),\n",
        "  tf.keras.layers.Dense(8, activation=\"relu\"),\n",
        "  tf.keras.layers.Dense(8, activation=\"relu\"),\n",
        "  tf.keras.layers.Dense(10, activation=\"softmax\") \n",
        "])\n",
        "\n",
        "# Compile the model\n",
        "model4.compile(loss=tf.keras.losses.SparseCategoricalCrossentropy(),\n",
        "                 optimizer=tf.keras.optimizers.Adam(lr=0.001), \n",
        "                 metrics=[\"accuracy\"])\n",
        "\n",
        "# Fit the model\n",
        "history = model4.fit(train_data,\n",
        "                       train_labels,\n",
        "                       epochs=20,\n",
        "                       validation_data=(test_data, test_labels))"
      ],
      "metadata": {
        "colab": {
          "base_uri": "https://localhost:8080/"
        },
        "id": "XN_dLaLFXoxR",
        "outputId": "bedaa086-c4cf-4fc0-84e8-34adf4fea17a"
      },
      "execution_count": 18,
      "outputs": [
        {
          "output_type": "stream",
          "name": "stderr",
          "text": [
            "/usr/local/lib/python3.7/dist-packages/keras/optimizer_v2/adam.py:105: UserWarning: The `lr` argument is deprecated, use `learning_rate` instead.\n",
            "  super(Adam, self).__init__(name, **kwargs)\n"
          ]
        },
        {
          "output_type": "stream",
          "name": "stdout",
          "text": [
            "Epoch 1/20\n",
            "563/563 [==============================] - 2s 3ms/step - loss: 0.2881 - accuracy: 0.8991 - val_loss: 0.1354 - val_accuracy: 0.9487\n",
            "Epoch 2/20\n",
            "563/563 [==============================] - 1s 2ms/step - loss: 0.1071 - accuracy: 0.9607 - val_loss: 0.1212 - val_accuracy: 0.9550\n",
            "Epoch 3/20\n",
            "563/563 [==============================] - 1s 2ms/step - loss: 0.0957 - accuracy: 0.9644 - val_loss: 0.1335 - val_accuracy: 0.9543\n",
            "Epoch 4/20\n",
            "563/563 [==============================] - 1s 2ms/step - loss: 0.0894 - accuracy: 0.9660 - val_loss: 0.1108 - val_accuracy: 0.9593\n",
            "Epoch 5/20\n",
            "563/563 [==============================] - 1s 2ms/step - loss: 0.0844 - accuracy: 0.9678 - val_loss: 0.1135 - val_accuracy: 0.9607\n",
            "Epoch 6/20\n",
            "563/563 [==============================] - 1s 2ms/step - loss: 0.0816 - accuracy: 0.9692 - val_loss: 0.1236 - val_accuracy: 0.9600\n",
            "Epoch 7/20\n",
            "563/563 [==============================] - 3s 5ms/step - loss: 0.0770 - accuracy: 0.9712 - val_loss: 0.1277 - val_accuracy: 0.9577\n",
            "Epoch 8/20\n",
            "563/563 [==============================] - 2s 4ms/step - loss: 0.0743 - accuracy: 0.9722 - val_loss: 0.1119 - val_accuracy: 0.9630\n",
            "Epoch 9/20\n",
            "563/563 [==============================] - 1s 2ms/step - loss: 0.0727 - accuracy: 0.9743 - val_loss: 0.1113 - val_accuracy: 0.9607\n",
            "Epoch 10/20\n",
            "563/563 [==============================] - 1s 2ms/step - loss: 0.0697 - accuracy: 0.9732 - val_loss: 0.1012 - val_accuracy: 0.9643\n",
            "Epoch 11/20\n",
            "563/563 [==============================] - 1s 2ms/step - loss: 0.0655 - accuracy: 0.9752 - val_loss: 0.1001 - val_accuracy: 0.9650\n",
            "Epoch 12/20\n",
            "563/563 [==============================] - 1s 2ms/step - loss: 0.0619 - accuracy: 0.9785 - val_loss: 0.1270 - val_accuracy: 0.9580\n",
            "Epoch 13/20\n",
            "563/563 [==============================] - 2s 3ms/step - loss: 0.0603 - accuracy: 0.9791 - val_loss: 0.1086 - val_accuracy: 0.9660\n",
            "Epoch 14/20\n",
            "563/563 [==============================] - 1s 2ms/step - loss: 0.0597 - accuracy: 0.9771 - val_loss: 0.0984 - val_accuracy: 0.9667\n",
            "Epoch 15/20\n",
            "563/563 [==============================] - 1s 2ms/step - loss: 0.0581 - accuracy: 0.9786 - val_loss: 0.1160 - val_accuracy: 0.9637\n",
            "Epoch 16/20\n",
            "563/563 [==============================] - 1s 2ms/step - loss: 0.0546 - accuracy: 0.9810 - val_loss: 0.1054 - val_accuracy: 0.9677\n",
            "Epoch 17/20\n",
            "563/563 [==============================] - 1s 2ms/step - loss: 0.0562 - accuracy: 0.9803 - val_loss: 0.1368 - val_accuracy: 0.9603\n",
            "Epoch 18/20\n",
            "563/563 [==============================] - 1s 2ms/step - loss: 0.0512 - accuracy: 0.9820 - val_loss: 0.1025 - val_accuracy: 0.9663\n",
            "Epoch 19/20\n",
            "563/563 [==============================] - 1s 2ms/step - loss: 0.0546 - accuracy: 0.9806 - val_loss: 0.1115 - val_accuracy: 0.9633\n",
            "Epoch 20/20\n",
            "563/563 [==============================] - 3s 5ms/step - loss: 0.0493 - accuracy: 0.9834 - val_loss: 0.1372 - val_accuracy: 0.9623\n"
          ]
        }
      ]
    },
    {
      "cell_type": "code",
      "source": [
        "history4_df = pd.DataFrame(history.history)\n",
        "history4_df.plot(title='Suposed best learning rate')"
      ],
      "metadata": {
        "colab": {
          "base_uri": "https://localhost:8080/",
          "height": 298
        },
        "id": "He3hLvugXrfV",
        "outputId": "47ab2d29-7614-4187-f774-213698861fd7"
      },
      "execution_count": 19,
      "outputs": [
        {
          "output_type": "execute_result",
          "data": {
            "text/plain": [
              "<matplotlib.axes._subplots.AxesSubplot at 0x7f55681a9d90>"
            ]
          },
          "metadata": {},
          "execution_count": 19
        },
        {
          "output_type": "display_data",
          "data": {
            "text/plain": [
              "<Figure size 432x288 with 1 Axes>"
            ],
            "image/png": "[encoded data removed]"
          },
          "metadata": {
            "needs_background": "light"
          }
        }
      ]
    },
    {
      "cell_type": "code",
      "source": [
        "predicted_labels4 = model4.predict(test_data)\n",
        "predicted_labels4 = predicted_labels4.argmax(axis=1)\n",
        "print(f\"Model 4, supposed best rate:\\n {confusion_matrix(y_true=test_labels, y_pred=predicted_labels4)}\")"
      ],
      "metadata": {
        "colab": {
          "base_uri": "https://localhost:8080/"
        },
        "id": "cQ5E7Ms5Xti_",
        "outputId": "365918ca-af9a-4d87-da93-81781327faad"
      },
      "execution_count": 20,
      "outputs": [
        {
          "output_type": "stream",
          "name": "stdout",
          "text": [
            "Model 4, supposed best rate:\n",
            " [[917  83   0]\n",
            " [ 27 973   0]\n",
            " [  0   3 997]]\n"
          ]
        }
      ]
    },
    {
      "cell_type": "code",
      "source": [
        "print(\"Forecast check\")\n",
        "plt.figure(figsize=(7, 7))\n",
        "for i in range(4):\n",
        "  ax = plt.subplot(2, 2, i + 1)\n",
        "  rand_index = random.choice(range(len(test_data)))\n",
        "  plt.imshow(test_data[rand_index], cmap=plt.cm.binary)\n",
        "  plt.title(class_names[predicted_labels4[rand_index]])\n",
        "  plt.axis(False)"
      ],
      "metadata": {
        "colab": {
          "base_uri": "https://localhost:8080/",
          "height": 444
        },
        "id": "6Pk_viHlXwBI",
        "outputId": "9f160463-90b5-447d-8c2b-41b5e7d71ac5"
      },
      "execution_count": 21,
      "outputs": [
        {
          "output_type": "stream",
          "name": "stdout",
          "text": [
            "Forecast check\n"
          ]
        },
        {
          "output_type": "display_data",
          "data": {
            "text/plain": [
              "<Figure size 504x504 with 4 Axes>"
            ],
            "image/png": "[encoded data removed]"
          },
          "metadata": {
            "needs_background": "light"
          }
        }
      ]
    },
    {
      "cell_type": "markdown",
      "source": [
        "# Висновок\n",
        "\n",
        "В ході лабораторної роботи було розглянуто класифікацію за допомогою нейронної мережі. Для побудови нейронної мережі було використано пакет tensorflow. Також будували крафік для знаходження оптимальної к-ть епох. Будувал і confusion matrix для перевірки прогнозу. Для досягнення хороших прогнозів ми спочатку зробили звичайну нейронну мережу з двома прихованими шарами. Потім ми зробили теж саме, але нормалізували наші дані і наша точність підвищилась. Далі я добавив ще один шар та декілька нейронів у інші шари і таким чином ми отримали гарні результати."
      ],
      "metadata": {
        "id": "gXDg1wgWXzL4"
      }
    }
  ]
}