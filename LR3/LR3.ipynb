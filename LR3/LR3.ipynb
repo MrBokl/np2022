{
  "nbformat": 4,
  "nbformat_minor": 0,
  "metadata": {
    "colab": {
      "name": "LR3.ipynb",
      "provenance": [],
      "collapsed_sections": [],
      "authorship_tag": "ABX9TyMTlT9s3Mkkqb6gGa4ryrZ4",
      "include_colab_link": true
    },
    "kernelspec": {
      "name": "python3",
      "display_name": "Python 3"
    },
    "language_info": {
      "name": "python"
    }
  },
  "cells": [
    {
      "cell_type": "markdown",
      "metadata": {
        "id": "view-in-github",
        "colab_type": "text"
      },
      "source": [
        "<a href=\"https://colab.research.google.com/github/MrBokl/np2022/blob/main/LR3/LR3.ipynb\" target=\"_parent\"><img src=\"https://colab.research.google.com/assets/colab-badge.svg\" alt=\"Open In Colab\"/></a>"
      ]
    },
    {
      "cell_type": "code",
      "execution_count": 2,
      "metadata": {
        "colab": {
          "base_uri": "https://localhost:8080/",
          "height": 299
        },
        "id": "mx32cCHoB5SF",
        "outputId": "03b98163-e9f9-4826-8af6-fec9b8d67ca2"
      },
      "outputs": [
        {
          "output_type": "display_data",
          "data": {
            "text/plain": [
              "<Figure size 432x288 with 1 Axes>"
            ],
            "image/png": "[encoded data removed]"
          },
          "metadata": {
            "needs_background": "light"
          }
        },
        {
          "output_type": "stream",
          "name": "stdout",
          "text": [
            "MAE (mean absolute error): 3.994009219136156 \n",
            "MSE (mean squared eror): 25.047478950538146\n"
          ]
        }
      ],
      "source": [
        "import numpy as np\n",
        "import pandas as pd\n",
        "from sklearn.datasets import make_regression\n",
        "from matplotlib import pyplot\n",
        "from sklearn.model_selection import train_test_split\n",
        "from sklearn.linear_model import LinearRegression\n",
        "from sklearn import metrics\n",
        "\n",
        "X, Y = make_regression(n_samples = 2300000, n_features = 1, noise = 5)\n",
        "pyplot.scatter(X, Y)\n",
        "pyplot.show()\n",
        "\n",
        "X_train, X_test, Y_train, Y_test = train_test_split(X, Y, test_size = 0.3)\n",
        "regressor = LinearRegression().fit(X_train, Y_train)\n",
        "Y_pred = regressor.predict(X_test)\n",
        "print('MAE (mean absolute error):', metrics.mean_absolute_error(Y_test, Y_pred),\n",
        "      '\\nMSE (mean squared eror):', metrics.mean_squared_error(Y_test, Y_pred))"
      ]
    }
  ]
}