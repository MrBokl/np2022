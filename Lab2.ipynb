{
  "nbformat": 4,
  "nbformat_minor": 0,
  "metadata": {
    "colab": {
      "name": "Lab2.ipynb",
      "provenance": [],
      "collapsed_sections": [],
      "authorship_tag": "ABX9TyOGiJTiUE2gLUDU4Y+QHF/W",
      "include_colab_link": true
    },
    "kernelspec": {
      "name": "python3",
      "display_name": "Python 3"
    },
    "language_info": {
      "name": "python"
    }
  },
  "cells": [
    {
      "cell_type": "markdown",
      "metadata": {
        "id": "view-in-github",
        "colab_type": "text"
      },
      "source": [
        "<a href=\"https://colab.research.google.com/github/MrBokl/np2022/blob/main/Lab2.ipynb\" target=\"_parent\"><img src=\"https://colab.research.google.com/assets/colab-badge.svg\" alt=\"Open In Colab\"/></a>"
      ]
    },
    {
      "cell_type": "markdown",
      "source": [
        "# Лабораторна робота №2\n",
        "### студента групи Анд-31\n",
        "\n",
        "### Майданик Андрій\n",
        "\n",
        "### Варіант №7\n",
        "\n",
        "# Завдання №1\n",
        "\n",
        "##### Створити набір даних із заданим розподілом (розподіл та розмір за власним рішенням), визначити його властивості (shape, rank, size, axis)"
      ],
      "metadata": {
        "id": "eUWdTz8sD0bb"
      }
    },
    {
      "cell_type": "markdown",
      "source": [
        "# Лабораторна робота №2\n",
        "## студента групи Анд-31\n",
        "\n",
        "### Майданик Андрій\n",
        "\n",
        "### Варіант №7\n",
        "### Завдання №1\n",
        "\n",
        "створити набір даних із заданим розподілом (розподіл та розмір за власним рішенням), визначити його властивості (shape, rank, size, axis)"
      ],
      "metadata": {
        "id": "dQJFRuACYTVj"
      }
    },
    {
      "cell_type": "code",
      "source": [
        "import tensorflow as tf\n",
        "import numpy as np\n",
        "import pandas as pd"
      ],
      "metadata": {
        "id": "NH6Em8LzYSFx"
      },
      "execution_count": null,
      "outputs": []
    },
    {
      "cell_type": "code",
      "source": [
        "Tmatrix = tf.random.Generator.from_seed(42)\n",
        "Tmatrix = Tmatrix.normal(shape=(5, 5))\n",
        "print(\"Tensor list:\\n\",Tmatrix)\n",
        "print(\"Shape of tensor: \", Tmatrix.shape)\n",
        "print(\"Rank of tensor:\", Tmatrix.ndim)\n",
        "print(\"Size  of tensor:\", tf.size(Tmatrix).numpy())\n",
        "print(\"Elements along axis 0 of tensor:\",Tmatrix.shape[0])\n",
        "print(\"Elements along axis 1 of tensor:\",Tmatrix.shape[1])"
      ],
      "metadata": {
        "colab": {
          "base_uri": "https://localhost:8080/"
        },
        "id": "GgyIm9vOELo-",
        "outputId": "88983e38-8898-423c-a81a-1592d7330fee"
      },
      "execution_count": 5,
      "outputs": [
        {
          "output_type": "stream",
          "name": "stdout",
          "text": [
            "Tensor list:\n",
            " tf.Tensor(\n",
            "[[-0.7565803  -0.06854702  0.07595026 -1.2573844  -0.23193763]\n",
            " [-1.8107855   0.09988727 -0.50998646 -0.7535805  -0.57166284]\n",
            " [ 0.1480774  -0.23362993 -0.3522796   0.40621263 -1.0523509 ]\n",
            " [ 1.2054597   1.6874489  -0.4462975  -2.3410842   0.99009085]\n",
            " [-0.0876323  -0.635568   -0.6161736  -1.9441465  -0.48293006]], shape=(5, 5), dtype=float32)\n",
            "Shape of tensor:  (5, 5)\n",
            "Rank of tensor: 2\n",
            "Size  of tensor: 25\n",
            "Elements along axis 0 of tensor: 5\n",
            "Elements along axis 1 of tensor: 5\n"
          ]
        }
      ]
    },
    {
      "cell_type": "markdown",
      "source": [
        "# Завдання №2\n",
        "\n",
        "продемонструвати основні математичні операції над тензорами.\n",
        "\n"
      ],
      "metadata": {
        "id": "fi9WLjv5ZGkF"
      }
    },
    {
      "cell_type": "code",
      "source": [
        "print(\"Множення:\", Tmatrix * 1.5)"
      ],
      "metadata": {
        "id": "CVvOPkB_ExVU",
        "colab": {
          "base_uri": "https://localhost:8080/"
        },
        "outputId": "e6ae0483-c942-4513-bb7e-f2076c24a1e7"
      },
      "execution_count": 8,
      "outputs": [
        {
          "output_type": "stream",
          "name": "stdout",
          "text": [
            "Множення: tf.Tensor(\n",
            "[[-1.1348704  -0.10282053  0.11392538 -1.8860767  -0.34790644]\n",
            " [-2.7161784   0.14983091 -0.7649797  -1.1303707  -0.85749424]\n",
            " [ 0.2221161  -0.35044488 -0.5284194   0.609319   -1.5785263 ]\n",
            " [ 1.8081896   2.5311732  -0.66944623 -3.5116262   1.4851363 ]\n",
            " [-0.13144845 -0.95335203 -0.92426044 -2.9162197  -0.7243951 ]], shape=(5, 5), dtype=float32)\n"
          ]
        }
      ]
    },
    {
      "cell_type": "code",
      "source": [
        "print(\"Додавання значень: \", Tmatrix + 0.4)"
      ],
      "metadata": {
        "colab": {
          "base_uri": "https://localhost:8080/"
        },
        "id": "QDg79XqWZQig",
        "outputId": "e65f0e4a-cbf7-4900-a3ed-b1772b815b74"
      },
      "execution_count": 15,
      "outputs": [
        {
          "output_type": "stream",
          "name": "stdout",
          "text": [
            "Додавання значень:  tf.Tensor(\n",
            "[[-0.3565803   0.331453    0.47595027 -0.85738444  0.16806237]\n",
            " [-1.4107856   0.4998873  -0.10998645 -0.3535805  -0.17166284]\n",
            " [ 0.5480774   0.16637008  0.0477204   0.80621266 -0.6523509 ]\n",
            " [ 1.6054597   2.0874488  -0.04629749 -1.9410843   1.3900908 ]\n",
            " [ 0.3123677  -0.23556802 -0.21617362 -1.5441465  -0.08293006]], shape=(5, 5), dtype=float32)\n"
          ]
        }
      ]
    },
    {
      "cell_type": "code",
      "source": [
        "print(\"Віднімання: \", Tmatrix - 0.4)"
      ],
      "metadata": {
        "colab": {
          "base_uri": "https://localhost:8080/"
        },
        "id": "2ZwyobjMZcdu",
        "outputId": "bfc2f377-1f06-4c63-c4f9-c0f0f959829f"
      },
      "execution_count": 16,
      "outputs": [
        {
          "output_type": "stream",
          "name": "stdout",
          "text": [
            "Віднімання:  tf.Tensor(\n",
            "[[-1.1565803  -0.46854702 -0.32404974 -1.6573844  -0.6319376 ]\n",
            " [-2.2107856  -0.30011272 -0.9099865  -1.1535805  -0.9716629 ]\n",
            " [-0.2519226  -0.6336299  -0.75227964  0.00621262 -1.4523509 ]\n",
            " [ 0.80545974  1.2874489  -0.8462975  -2.7410843   0.5900909 ]\n",
            " [-0.4876323  -1.035568   -1.0161736  -2.3441465  -0.88293004]], shape=(5, 5), dtype=float32)\n"
          ]
        }
      ]
    },
    {
      "cell_type": "code",
      "source": [
        "Tmatrix_aux = tf.random.Generator.from_seed(12)\n",
        "Tmatrix_aux = Tmatrix_aux.normal(shape=(5, 3))\n",
        "print(\"Допоміжний :\", Tmatrix_aux)"
      ],
      "metadata": {
        "colab": {
          "base_uri": "https://localhost:8080/"
        },
        "id": "YIzcQLc_ZjFU",
        "outputId": "e7fbfb79-3324-4043-8c36-a946b2113c34"
      },
      "execution_count": 17,
      "outputs": [
        {
          "output_type": "stream",
          "name": "stdout",
          "text": [
            "Допоміжний : tf.Tensor(\n",
            "[[-1.0130816   0.28291714  1.2132233 ]\n",
            " [ 0.46988967  0.37944323 -0.6664026 ]\n",
            " [ 0.6054596   0.19181173  0.8045827 ]\n",
            " [ 0.4769051  -0.7812124  -0.996891  ]\n",
            " [ 0.33149973 -0.5445254   1.5222508 ]], shape=(5, 3), dtype=float32)\n"
          ]
        }
      ]
    },
    {
      "cell_type": "code",
      "source": [
        "print(\"множення tensor на tensor: \", tf.matmul(Tmatrix,Tmatrix_aux))"
      ],
      "metadata": {
        "colab": {
          "base_uri": "https://localhost:8080/"
        },
        "id": "QOXqIJ1iZuCH",
        "outputId": "7e213227-2596-4f6c-d345-d3cff6c1e5e3"
      },
      "execution_count": 18,
      "outputs": [
        {
          "output_type": "stream",
          "name": "stdout",
          "text": [
            "множення tensor на tensor:  tf.Tensor(\n",
            "[[ 0.10371248  0.8830891   0.08929531]\n",
            " [ 1.0237408   0.32776925 -2.7927551 ]\n",
            " [-0.62821496  0.14136644 -1.9549872 ]\n",
            " [-1.4867893   2.1854858   3.8198607 ]\n",
            " [-1.6702008   1.3976151   1.0244255 ]], shape=(5, 3), dtype=float32)\n"
          ]
        }
      ]
    },
    {
      "cell_type": "markdown",
      "source": [
        "# Завдання №3\n",
        "\n",
        "### провести CRUD операції над даними, reshape, інтеграцію з np.array, pd.DataFrame."
      ],
      "metadata": {
        "id": "zYoM4jxcZ9R_"
      }
    },
    {
      "cell_type": "code",
      "source": [
        "\n",
        "Vmatrix = tf.Variable([[3,2,3,4],\n",
        "                      [3,2,3,4],\n",
        "                      [4,1,2,6]])\n",
        "print(\"Update tensor:\")\n",
        "Vmatrix[0].assign([4,1,2,6])"
      ],
      "metadata": {
        "colab": {
          "base_uri": "https://localhost:8080/"
        },
        "id": "u_52th3naAX_",
        "outputId": "826c5f77-c337-47c8-a803-e2814d8f8c5e"
      },
      "execution_count": 22,
      "outputs": [
        {
          "output_type": "stream",
          "name": "stdout",
          "text": [
            "Update tensor:\n"
          ]
        },
        {
          "output_type": "execute_result",
          "data": {
            "text/plain": [
              "<tf.Variable 'UnreadVariable' shape=(3, 4) dtype=int32, numpy=\n",
              "array([[4, 1, 2, 6],\n",
              "       [3, 2, 3, 4],\n",
              "       [4, 1, 2, 6]], dtype=int32)>"
            ]
          },
          "metadata": {},
          "execution_count": 22
        }
      ]
    },
    {
      "cell_type": "code",
      "source": [
        "data = np.array([])\n",
        "with open(\"tensor.txt\") as f:\n",
        "    for line in f:\n",
        "       data = np.append(data,[float(x) for x in line.split()])\n",
        "TmatrixF = tf.constant(data, shape = (6,2))\n",
        "print(\"Upload from file:\",TmatrixF)"
      ],
      "metadata": {
        "colab": {
          "base_uri": "https://localhost:8080/",
          "height": 375
        },
        "id": "zCmunRlna_Sw",
        "outputId": "d404f82b-9458-4a67-a281-a3790835b689"
      },
      "execution_count": 36,
      "outputs": [
        {
          "output_type": "error",
          "ename": "TypeError",
          "evalue": "ignored",
          "traceback": [
            "\u001b[0;31m---------------------------------------------------------------------------\u001b[0m",
            "\u001b[0;31mTypeError\u001b[0m                                 Traceback (most recent call last)",
            "\u001b[0;32m<ipython-input-36-a2674eea707a>\u001b[0m in \u001b[0;36m<module>\u001b[0;34m()\u001b[0m\n\u001b[1;32m      3\u001b[0m     \u001b[0;32mfor\u001b[0m \u001b[0mline\u001b[0m \u001b[0;32min\u001b[0m \u001b[0mf\u001b[0m\u001b[0;34m:\u001b[0m\u001b[0;34m\u001b[0m\u001b[0;34m\u001b[0m\u001b[0m\n\u001b[1;32m      4\u001b[0m        \u001b[0mdata\u001b[0m \u001b[0;34m=\u001b[0m \u001b[0mnp\u001b[0m\u001b[0;34m.\u001b[0m\u001b[0mappend\u001b[0m\u001b[0;34m(\u001b[0m\u001b[0mdata\u001b[0m\u001b[0;34m,\u001b[0m\u001b[0;34m[\u001b[0m\u001b[0mfloat\u001b[0m\u001b[0;34m(\u001b[0m\u001b[0mx\u001b[0m\u001b[0;34m)\u001b[0m \u001b[0;32mfor\u001b[0m \u001b[0mx\u001b[0m \u001b[0;32min\u001b[0m \u001b[0mline\u001b[0m\u001b[0;34m.\u001b[0m\u001b[0msplit\u001b[0m\u001b[0;34m(\u001b[0m\u001b[0;34m)\u001b[0m\u001b[0;34m]\u001b[0m\u001b[0;34m)\u001b[0m\u001b[0;34m\u001b[0m\u001b[0;34m\u001b[0m\u001b[0m\n\u001b[0;32m----> 5\u001b[0;31m \u001b[0mTmatrixF\u001b[0m \u001b[0;34m=\u001b[0m \u001b[0mtf\u001b[0m\u001b[0;34m.\u001b[0m\u001b[0mconstant\u001b[0m\u001b[0;34m(\u001b[0m\u001b[0mdata\u001b[0m\u001b[0;34m,\u001b[0m \u001b[0mshape\u001b[0m \u001b[0;34m=\u001b[0m \u001b[0;34m(\u001b[0m\u001b[0;36m6\u001b[0m\u001b[0;34m,\u001b[0m\u001b[0;36m2\u001b[0m\u001b[0;34m)\u001b[0m\u001b[0;34m)\u001b[0m\u001b[0;34m\u001b[0m\u001b[0;34m\u001b[0m\u001b[0m\n\u001b[0m\u001b[1;32m      6\u001b[0m \u001b[0mprint\u001b[0m\u001b[0;34m(\u001b[0m\u001b[0;34m\"Upload from file:\"\u001b[0m\u001b[0;34m,\u001b[0m\u001b[0mTmatrixF\u001b[0m\u001b[0;34m)\u001b[0m\u001b[0;34m\u001b[0m\u001b[0;34m\u001b[0m\u001b[0m\n",
            "\u001b[0;32m/usr/local/lib/python3.7/dist-packages/tensorflow/python/framework/constant_op.py\u001b[0m in \u001b[0;36mconstant\u001b[0;34m(value, dtype, shape, name)\u001b[0m\n\u001b[1;32m    266\u001b[0m   \"\"\"\n\u001b[1;32m    267\u001b[0m   return _constant_impl(value, dtype, shape, name, verify_shape=False,\n\u001b[0;32m--> 268\u001b[0;31m                         allow_broadcast=True)\n\u001b[0m\u001b[1;32m    269\u001b[0m \u001b[0;34m\u001b[0m\u001b[0m\n\u001b[1;32m    270\u001b[0m \u001b[0;34m\u001b[0m\u001b[0m\n",
            "\u001b[0;32m/usr/local/lib/python3.7/dist-packages/tensorflow/python/framework/constant_op.py\u001b[0m in \u001b[0;36m_constant_impl\u001b[0;34m(value, dtype, shape, name, verify_shape, allow_broadcast)\u001b[0m\n\u001b[1;32m    277\u001b[0m       \u001b[0;32mwith\u001b[0m \u001b[0mtrace\u001b[0m\u001b[0;34m.\u001b[0m\u001b[0mTrace\u001b[0m\u001b[0;34m(\u001b[0m\u001b[0;34m\"tf.constant\"\u001b[0m\u001b[0;34m)\u001b[0m\u001b[0;34m:\u001b[0m\u001b[0;34m\u001b[0m\u001b[0;34m\u001b[0m\u001b[0m\n\u001b[1;32m    278\u001b[0m         \u001b[0;32mreturn\u001b[0m \u001b[0m_constant_eager_impl\u001b[0m\u001b[0;34m(\u001b[0m\u001b[0mctx\u001b[0m\u001b[0;34m,\u001b[0m \u001b[0mvalue\u001b[0m\u001b[0;34m,\u001b[0m \u001b[0mdtype\u001b[0m\u001b[0;34m,\u001b[0m \u001b[0mshape\u001b[0m\u001b[0;34m,\u001b[0m \u001b[0mverify_shape\u001b[0m\u001b[0;34m)\u001b[0m\u001b[0;34m\u001b[0m\u001b[0;34m\u001b[0m\u001b[0m\n\u001b[0;32m--> 279\u001b[0;31m     \u001b[0;32mreturn\u001b[0m \u001b[0m_constant_eager_impl\u001b[0m\u001b[0;34m(\u001b[0m\u001b[0mctx\u001b[0m\u001b[0;34m,\u001b[0m \u001b[0mvalue\u001b[0m\u001b[0;34m,\u001b[0m \u001b[0mdtype\u001b[0m\u001b[0;34m,\u001b[0m \u001b[0mshape\u001b[0m\u001b[0;34m,\u001b[0m \u001b[0mverify_shape\u001b[0m\u001b[0;34m)\u001b[0m\u001b[0;34m\u001b[0m\u001b[0;34m\u001b[0m\u001b[0m\n\u001b[0m\u001b[1;32m    280\u001b[0m \u001b[0;34m\u001b[0m\u001b[0m\n\u001b[1;32m    281\u001b[0m   \u001b[0mg\u001b[0m \u001b[0;34m=\u001b[0m \u001b[0mops\u001b[0m\u001b[0;34m.\u001b[0m\u001b[0mget_default_graph\u001b[0m\u001b[0;34m(\u001b[0m\u001b[0;34m)\u001b[0m\u001b[0;34m\u001b[0m\u001b[0;34m\u001b[0m\u001b[0m\n",
            "\u001b[0;32m/usr/local/lib/python3.7/dist-packages/tensorflow/python/framework/constant_op.py\u001b[0m in \u001b[0;36m_constant_eager_impl\u001b[0;34m(ctx, value, dtype, shape, verify_shape)\u001b[0m\n\u001b[1;32m    324\u001b[0m     \u001b[0;32melse\u001b[0m\u001b[0;34m:\u001b[0m\u001b[0;34m\u001b[0m\u001b[0;34m\u001b[0m\u001b[0m\n\u001b[1;32m    325\u001b[0m       \u001b[0;32mreturn\u001b[0m \u001b[0m_eager_fill\u001b[0m\u001b[0;34m(\u001b[0m\u001b[0mshape\u001b[0m\u001b[0;34m.\u001b[0m\u001b[0mas_list\u001b[0m\u001b[0;34m(\u001b[0m\u001b[0;34m)\u001b[0m\u001b[0;34m,\u001b[0m \u001b[0mt\u001b[0m\u001b[0;34m,\u001b[0m \u001b[0mctx\u001b[0m\u001b[0;34m)\u001b[0m\u001b[0;34m\u001b[0m\u001b[0;34m\u001b[0m\u001b[0m\n\u001b[0;32m--> 326\u001b[0;31m   raise TypeError(\"Eager execution of tf.constant with unsupported shape. \"\n\u001b[0m\u001b[1;32m    327\u001b[0m                   \u001b[0;34mf\"Tensor {t} (converted from {value}) has {num_t:d} \"\u001b[0m\u001b[0;34m\u001b[0m\u001b[0;34m\u001b[0m\u001b[0m\n\u001b[1;32m    328\u001b[0m                   \u001b[0;34mf\"elements, but got `shape` {shape} with \"\u001b[0m\u001b[0;34m\u001b[0m\u001b[0;34m\u001b[0m\u001b[0m\n",
            "\u001b[0;31mTypeError\u001b[0m: Eager execution of tf.constant with unsupported shape. Tensor [1. 1. 2. 3. 4. 5. 6. 7. 8. 9. 0.] (converted from [1. 1. 2. 3. 4. 5. 6. 7. 8. 9. 0.]) has 11 elements, but got `shape` (6, 2) with 12 elements)."
          ]
        }
      ]
    },
    {
      "cell_type": "code",
      "source": [
        "resh = np.arange(1, 25)\n",
        "resh"
      ],
      "metadata": {
        "colab": {
          "base_uri": "https://localhost:8080/"
        },
        "id": "QJA1-nqHy6hW",
        "outputId": "9951aa0d-4c20-4cd8-b2f5-e1d82e006ed6"
      },
      "execution_count": 37,
      "outputs": [
        {
          "output_type": "execute_result",
          "data": {
            "text/plain": [
              "array([ 1,  2,  3,  4,  5,  6,  7,  8,  9, 10, 11, 12, 13, 14, 15, 16, 17,\n",
              "       18, 19, 20, 21, 22, 23, 24])"
            ]
          },
          "metadata": {},
          "execution_count": 37
        }
      ]
    },
    {
      "cell_type": "code",
      "source": [
        "Tmatrix_resh = tf.constant(resh, shape=(6, 4))\n",
        "Tmatrix_resh"
      ],
      "metadata": {
        "colab": {
          "base_uri": "https://localhost:8080/"
        },
        "id": "gV4htr07y9J1",
        "outputId": "e56dd4b9-1e72-4d35-ba53-c09a07f7d508"
      },
      "execution_count": 38,
      "outputs": [
        {
          "output_type": "execute_result",
          "data": {
            "text/plain": [
              "<tf.Tensor: shape=(6, 4), dtype=int64, numpy=\n",
              "array([[ 1,  2,  3,  4],\n",
              "       [ 5,  6,  7,  8],\n",
              "       [ 9, 10, 11, 12],\n",
              "       [13, 14, 15, 16],\n",
              "       [17, 18, 19, 20],\n",
              "       [21, 22, 23, 24]])>"
            ]
          },
          "metadata": {},
          "execution_count": 38
        }
      ]
    },
    {
      "cell_type": "code",
      "source": [
        "first_arr = [1, 2, 3, 4, 5, 6, 7, 8]\n",
        "second_arr = [10, 11, 12, 13, 14, 15, 16 ,17]\n",
        "df = pd.DataFrame({'fisrt':first_arr,\n",
        "                  'second':second_arr})\n",
        "df"
      ],
      "metadata": {
        "colab": {
          "base_uri": "https://localhost:8080/",
          "height": 297
        },
        "id": "vqIPesXFzAfN",
        "outputId": "f050022d-0298-46a9-b736-f71cf3cb8440"
      },
      "execution_count": 39,
      "outputs": [
        {
          "output_type": "execute_result",
          "data": {
            "text/plain": [
              "   fisrt  second\n",
              "0      1      10\n",
              "1      2      11\n",
              "2      3      12\n",
              "3      4      13\n",
              "4      5      14\n",
              "5      6      15\n",
              "6      7      16\n",
              "7      8      17"
            ],
            "text/html": [
              "\n",
              "  <div id=\"df-148c1543-6121-4b50-8ac3-abd0d3a424fb\">\n",
              "    <div class=\"colab-df-container\">\n",
              "      <div>\n",
              "<style scoped>\n",
              "    .dataframe tbody tr th:only-of-type {\n",
              "        vertical-align: middle;\n",
              "    }\n",
              "\n",
              "    .dataframe tbody tr th {\n",
              "        vertical-align: top;\n",
              "    }\n",
              "\n",
              "    .dataframe thead th {\n",
              "        text-align: right;\n",
              "    }\n",
              "</style>\n",
              "<table border=\"1\" class=\"dataframe\">\n",
              "  <thead>\n",
              "    <tr style=\"text-align: right;\">\n",
              "      <th></th>\n",
              "      <th>fisrt</th>\n",
              "      <th>second</th>\n",
              "    </tr>\n",
              "  </thead>\n",
              "  <tbody>\n",
              "    <tr>\n",
              "      <th>0</th>\n",
              "      <td>1</td>\n",
              "      <td>10</td>\n",
              "    </tr>\n",
              "    <tr>\n",
              "      <th>1</th>\n",
              "      <td>2</td>\n",
              "      <td>11</td>\n",
              "    </tr>\n",
              "    <tr>\n",
              "      <th>2</th>\n",
              "      <td>3</td>\n",
              "      <td>12</td>\n",
              "    </tr>\n",
              "    <tr>\n",
              "      <th>3</th>\n",
              "      <td>4</td>\n",
              "      <td>13</td>\n",
              "    </tr>\n",
              "    <tr>\n",
              "      <th>4</th>\n",
              "      <td>5</td>\n",
              "      <td>14</td>\n",
              "    </tr>\n",
              "    <tr>\n",
              "      <th>5</th>\n",
              "      <td>6</td>\n",
              "      <td>15</td>\n",
              "    </tr>\n",
              "    <tr>\n",
              "      <th>6</th>\n",
              "      <td>7</td>\n",
              "      <td>16</td>\n",
              "    </tr>\n",
              "    <tr>\n",
              "      <th>7</th>\n",
              "      <td>8</td>\n",
              "      <td>17</td>\n",
              "    </tr>\n",
              "  </tbody>\n",
              "</table>\n",
              "</div>\n",
              "      <button class=\"colab-df-convert\" onclick=\"convertToInteractive('df-148c1543-6121-4b50-8ac3-abd0d3a424fb')\"\n",
              "              title=\"Convert this dataframe to an interactive table.\"\n",
              "              style=\"display:none;\">\n",
              "        \n",
              "  <svg xmlns=\"http://www.w3.org/2000/svg\" height=\"24px\"viewBox=\"0 0 24 24\"\n",
              "       width=\"24px\">\n",
              "    <path d=\"M0 0h24v24H0V0z\" fill=\"none\"/>\n",
              "    <path d=\"M18.56 5.44l.94 2.06.94-2.06 2.06-.94-2.06-.94-.94-2.06-.94 2.06-2.06.94zm-11 1L8.5 8.5l.94-2.06 2.06-.94-2.06-.94L8.5 2.5l-.94 2.06-2.06.94zm10 10l.94 2.06.94-2.06 2.06-.94-2.06-.94-.94-2.06-.94 2.06-2.06.94z\"/><path d=\"M17.41 7.96l-1.37-1.37c-.4-.4-.92-.59-1.43-.59-.52 0-1.04.2-1.43.59L10.3 9.45l-7.72 7.72c-.78.78-.78 2.05 0 2.83L4 21.41c.39.39.9.59 1.41.59.51 0 1.02-.2 1.41-.59l7.78-7.78 2.81-2.81c.8-.78.8-2.07 0-2.86zM5.41 20L4 18.59l7.72-7.72 1.47 1.35L5.41 20z\"/>\n",
              "  </svg>\n",
              "      </button>\n",
              "      \n",
              "  <style>\n",
              "    .colab-df-container {\n",
              "      display:flex;\n",
              "      flex-wrap:wrap;\n",
              "      gap: 12px;\n",
              "    }\n",
              "\n",
              "    .colab-df-convert {\n",
              "      background-color: #E8F0FE;\n",
              "      border: none;\n",
              "      border-radius: 50%;\n",
              "      cursor: pointer;\n",
              "      display: none;\n",
              "      fill: #1967D2;\n",
              "      height: 32px;\n",
              "      padding: 0 0 0 0;\n",
              "      width: 32px;\n",
              "    }\n",
              "\n",
              "    .colab-df-convert:hover {\n",
              "      background-color: #E2EBFA;\n",
              "      box-shadow: 0px 1px 2px rgba(60, 64, 67, 0.3), 0px 1px 3px 1px rgba(60, 64, 67, 0.15);\n",
              "      fill: #174EA6;\n",
              "    }\n",
              "\n",
              "    [theme=dark] .colab-df-convert {\n",
              "      background-color: #3B4455;\n",
              "      fill: #D2E3FC;\n",
              "    }\n",
              "\n",
              "    [theme=dark] .colab-df-convert:hover {\n",
              "      background-color: #434B5C;\n",
              "      box-shadow: 0px 1px 3px 1px rgba(0, 0, 0, 0.15);\n",
              "      filter: drop-shadow(0px 1px 2px rgba(0, 0, 0, 0.3));\n",
              "      fill: #FFFFFF;\n",
              "    }\n",
              "  </style>\n",
              "\n",
              "      <script>\n",
              "        const buttonEl =\n",
              "          document.querySelector('#df-148c1543-6121-4b50-8ac3-abd0d3a424fb button.colab-df-convert');\n",
              "        buttonEl.style.display =\n",
              "          google.colab.kernel.accessAllowed ? 'block' : 'none';\n",
              "\n",
              "        async function convertToInteractive(key) {\n",
              "          const element = document.querySelector('#df-148c1543-6121-4b50-8ac3-abd0d3a424fb');\n",
              "          const dataTable =\n",
              "            await google.colab.kernel.invokeFunction('convertToInteractive',\n",
              "                                                     [key], {});\n",
              "          if (!dataTable) return;\n",
              "\n",
              "          const docLinkHtml = 'Like what you see? Visit the ' +\n",
              "            '<a target=\"_blank\" href=https://colab.research.google.com/notebooks/data_table.ipynb>data table notebook</a>'\n",
              "            + ' to learn more about interactive tables.';\n",
              "          element.innerHTML = '';\n",
              "          dataTable['output_type'] = 'display_data';\n",
              "          await google.colab.output.renderOutput(dataTable, element);\n",
              "          const docLink = document.createElement('div');\n",
              "          docLink.innerHTML = docLinkHtml;\n",
              "          element.appendChild(docLink);\n",
              "        }\n",
              "      </script>\n",
              "    </div>\n",
              "  </div>\n",
              "  "
            ]
          },
          "metadata": {},
          "execution_count": 39
        }
      ]
    },
    {
      "cell_type": "code",
      "source": [
        "TmatrixD = tf.constant(df)\n",
        "TmatrixD"
      ],
      "metadata": {
        "colab": {
          "base_uri": "https://localhost:8080/"
        },
        "id": "82AfSlDVzDTe",
        "outputId": "3128480d-b1aa-46b7-d00e-6e5ccc8be0ca"
      },
      "execution_count": 40,
      "outputs": [
        {
          "output_type": "execute_result",
          "data": {
            "text/plain": [
              "<tf.Tensor: shape=(8, 2), dtype=int64, numpy=\n",
              "array([[ 1, 10],\n",
              "       [ 2, 11],\n",
              "       [ 3, 12],\n",
              "       [ 4, 13],\n",
              "       [ 5, 14],\n",
              "       [ 6, 15],\n",
              "       [ 7, 16],\n",
              "       [ 8, 17]])>"
            ]
          },
          "metadata": {},
          "execution_count": 40
        }
      ]
    },
    {
      "cell_type": "markdown",
      "source": [
        "# Висновок\n",
        "\n",
        "### В ході виконання лабораторної роботи було розглянуто бібліотеку tensorflow. За допомогою цієї бібліотеки ми створювали тензори різного рангу, також розглянули різні види заповнення тензорів. Попрацювали з властивостями та математичними операціями над тензорами. Також провели CRUD операції і зробили інтеграцію з np.array та DataFrame в тензор. Тензор в основному використовують, як ваговы коефіцієнти для навчання нейронних мерж."
      ],
      "metadata": {
        "id": "kMVJKWURzFf3"
      }
    }
  ]
}